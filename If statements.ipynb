# -*- coding: utf-8 -*-
"""
Created on Mon Jul  1 06:15:16 2024

@author: shadd
"""
is_hot = False
is_cold = False

if is_hot:
    print("Its a hot day")
    print("Drink plenty of water")
    
elif is_cold:
    print("Its a cold day")
    print("Wear warm clothes")
else:
   print("Its a lovely day")
print("Enjoy your day")