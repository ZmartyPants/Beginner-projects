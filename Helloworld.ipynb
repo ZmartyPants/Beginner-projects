{
 "cells": [
  {
   "cell_type": "code",
   "execution_count": 4,
   "id": "70db4270-3fca-44b2-9f66-c5b0027bae9e",
   "metadata": {},
   "outputs": [
    {
     "name": "stdout",
     "output_type": "stream",
     "text": [
      "Shaddai Banda\n",
      "0----\n",
      "11111\n",
      "**********\n"
     ]
    }
   ],
   "source": [
    "print(\"Hello world\")\n",
    "print (\"0----\")\n",
    "print(\"11111\")\n",
    "print(\"*\" * 10)"
   ]
  },
  {
   "cell_type": "code",
   "execution_count": null,
   "id": "2f248130-4dd0-49d8-afa7-462f309d852d",
   "metadata": {},
   "outputs": [],
   "source": []
  }
 ],
 "metadata": {
  "kernelspec": {
   "display_name": "Python 3 (ipykernel)",
   "language": "python",
   "name": "python3"
  },
  "language_info": {
   "codemirror_mode": {
    "name": "ipython",
    "version": 3
   },
   "file_extension": ".py",
   "mimetype": "text/x-python",
   "name": "python",
   "nbconvert_exporter": "python",
   "pygments_lexer": "ipython3",
   "version": "3.11.7"
  }
 },
 "nbformat": 4,
 "nbformat_minor": 5
}
