{
 "cells": [
  {
   "cell_type": "code",
   "execution_count": 3,
   "id": "d9d1147c-0f4d-47f6-8232-d0d2f9176b94",
   "metadata": {},
   "outputs": [
    {
     "name": "stdin",
     "output_type": "stream",
     "text": [
      "What is your name?  Randy\n",
      "What is your favourite color?  Green\n"
     ]
    },
    {
     "name": "stdout",
     "output_type": "stream",
     "text": [
      "Randy likes Green\n"
     ]
    }
   ],
   "source": [
    "name = input(\"What is your name? \")\n",
    "fav_color = input(\"What is your favourite color? \")\n",
    "print(name + \" likes \" + fav_color)"
   ]
  },
  {
   "cell_type": "code",
   "execution_count": null,
   "id": "a2bd7085-403a-408a-a315-72e3a3ac3950",
   "metadata": {},
   "outputs": [],
   "source": []
  }
 ],
 "metadata": {
  "kernelspec": {
   "display_name": "Python 3 (ipykernel)",
   "language": "python",
   "name": "python3"
  },
  "language_info": {
   "codemirror_mode": {
    "name": "ipython",
    "version": 3
   },
   "file_extension": ".py",
   "mimetype": "text/x-python",
   "name": "python",
   "nbconvert_exporter": "python",
   "pygments_lexer": "ipython3",
   "version": "3.11.7"
  }
 },
 "nbformat": 4,
 "nbformat_minor": 5
}
