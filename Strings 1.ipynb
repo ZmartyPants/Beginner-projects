{
 "cells": [
  {
   "cell_type": "code",
   "execution_count": 4,
   "id": "329d3d7d-3ed6-4638-ae73-1e72137fcf46",
   "metadata": {},
   "outputs": [
    {
     "name": "stdout",
     "output_type": "stream",
     "text": [
      "\n",
      "Hi John,\n",
      "\n",
      "Here is our first email to you.\n",
      "\n",
      "Thankyou,\n",
      "The support team\n",
      "\n",
      "\n"
     ]
    }
   ],
   "source": [
    "course = '''\n",
    "Hi John,\n",
    "\n",
    "Here is our first email to you.\n",
    "\n",
    "Thankyou,\n",
    "The support team\n",
    "\n",
    "'''\n",
    "print(course)"
   ]
  },
  {
   "cell_type": "code",
   "execution_count": null,
   "id": "7f1d0f02-dcac-4072-8d2a-e651067077e0",
   "metadata": {},
   "outputs": [],
   "source": []
  }
 ],
 "metadata": {
  "kernelspec": {
   "display_name": "Python 3 (ipykernel)",
   "language": "python",
   "name": "python3"
  },
  "language_info": {
   "codemirror_mode": {
    "name": "ipython",
    "version": 3
   },
   "file_extension": ".py",
   "mimetype": "text/x-python",
   "name": "python",
   "nbconvert_exporter": "python",
   "pygments_lexer": "ipython3",
   "version": "3.11.7"
  }
 },
 "nbformat": 4,
 "nbformat_minor": 5
}
