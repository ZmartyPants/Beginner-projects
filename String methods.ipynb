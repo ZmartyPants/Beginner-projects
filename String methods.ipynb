{
 "cells": [
  {
   "cell_type": "code",
   "execution_count": 22,
   "id": "1b024924-d535-4147-b7f0-1d8f36c33efd",
   "metadata": {},
   "outputs": [
    {
     "name": "stdout",
     "output_type": "stream",
     "text": [
      "20\n"
     ]
    }
   ],
   "source": [
    "course = 'Python for Beginners'\n",
    "print(len(course))"
   ]
  },
  {
   "cell_type": "code",
   "execution_count": 20,
   "id": "ee25149e-1d45-46d9-becf-3b022cc100f6",
   "metadata": {},
   "outputs": [
    {
     "name": "stdout",
     "output_type": "stream",
     "text": [
      "PYTHON FOR BEGINNERS\n"
     ]
    }
   ],
   "source": [
    "print(course.upper())"
   ]
  },
  {
   "cell_type": "code",
   "execution_count": 24,
   "id": "2558c106-9055-4d94-93da-fa1ea60476da",
   "metadata": {},
   "outputs": [
    {
     "name": "stdout",
     "output_type": "stream",
     "text": [
      "Python for Beginners\n"
     ]
    }
   ],
   "source": [
    "print(course)"
   ]
  },
  {
   "cell_type": "code",
   "execution_count": 26,
   "id": "fd3b687c-e65b-4bd7-8ead-b02f62a015d8",
   "metadata": {},
   "outputs": [
    {
     "name": "stdout",
     "output_type": "stream",
     "text": [
      "python for beginners\n"
     ]
    }
   ],
   "source": [
    "print(course.lower())"
   ]
  },
  {
   "cell_type": "code",
   "execution_count": 18,
   "id": "0535998d-5cf9-4672-b6c7-dabd8968669d",
   "metadata": {},
   "outputs": [
    {
     "name": "stdout",
     "output_type": "stream",
     "text": [
      "4\n"
     ]
    }
   ],
   "source": [
    "print(course.find('o'))"
   ]
  },
  {
   "cell_type": "code",
   "execution_count": 28,
   "id": "3641a1c3-5fa0-4eb7-8153-6d20a759eb81",
   "metadata": {},
   "outputs": [
    {
     "name": "stdout",
     "output_type": "stream",
     "text": [
      "11\n"
     ]
    }
   ],
   "source": [
    "print(course.find('Beginners'))"
   ]
  },
  {
   "cell_type": "code",
   "execution_count": 30,
   "id": "4c969a75-2857-4a00-bc42-4268cf917153",
   "metadata": {},
   "outputs": [
    {
     "name": "stdout",
     "output_type": "stream",
     "text": [
      "Python for Absolute Beginners\n"
     ]
    }
   ],
   "source": [
    "print(course.replace('Beginners', 'Absolute Beginners'))"
   ]
  },
  {
   "cell_type": "code",
   "execution_count": 32,
   "id": "cc973646-4ac7-4c6c-b981-4bcb563cd20a",
   "metadata": {},
   "outputs": [
    {
     "name": "stdout",
     "output_type": "stream",
     "text": [
      "Python For Beginners\n"
     ]
    }
   ],
   "source": [
    "print(course.replace('f', 'F'))"
   ]
  },
  {
   "cell_type": "code",
   "execution_count": 34,
   "id": "a24d99d8-6d7c-45bf-a101-c9c61b5197e5",
   "metadata": {},
   "outputs": [
    {
     "data": {
      "text/plain": [
       "True"
      ]
     },
     "execution_count": 34,
     "metadata": {},
     "output_type": "execute_result"
    }
   ],
   "source": [
    "'Python' in course"
   ]
  },
  {
   "cell_type": "code",
   "execution_count": 36,
   "id": "ab4b4506-87e6-4d51-86bf-5982596b1170",
   "metadata": {},
   "outputs": [
    {
     "data": {
      "text/plain": [
       "False"
      ]
     },
     "execution_count": 36,
     "metadata": {},
     "output_type": "execute_result"
    }
   ],
   "source": [
    "'python' in course"
   ]
  },
  {
   "cell_type": "code",
   "execution_count": null,
   "id": "c16908ca-4d63-43c5-bfbc-61a9eb11ce84",
   "metadata": {},
   "outputs": [],
   "source": []
  }
 ],
 "metadata": {
  "kernelspec": {
   "display_name": "Python 3 (ipykernel)",
   "language": "python",
   "name": "python3"
  },
  "language_info": {
   "codemirror_mode": {
    "name": "ipython",
    "version": 3
   },
   "file_extension": ".py",
   "mimetype": "text/x-python",
   "name": "python",
   "nbconvert_exporter": "python",
   "pygments_lexer": "ipython3",
   "version": "3.11.7"
  }
 },
 "nbformat": 4,
 "nbformat_minor": 5
}
