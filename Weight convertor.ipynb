{
 "cells": [
  {
   "cell_type": "code",
   "execution_count": 4,
   "id": "b60fae2d-db96-4ba7-9254-722b2dc6407e",
   "metadata": {},
   "outputs": [
    {
     "name": "stdin",
     "output_type": "stream",
     "text": [
      "Weight (lbs):  158.733\n"
     ]
    },
    {
     "name": "stdout",
     "output_type": "stream",
     "text": [
      "71.42985kg\n"
     ]
    }
   ],
   "source": [
    "weight_lbs = input('Weight (lbs): ')\n",
    "weight_kg = float(weight_lbs) * 0.45\n",
    "print(str(weight_kg) + \"kg\")"
   ]
  },
  {
   "cell_type": "code",
   "execution_count": null,
   "id": "110b0be3-104b-41f9-8c7c-c832dcc30672",
   "metadata": {},
   "outputs": [],
   "source": []
  }
 ],
 "metadata": {
  "kernelspec": {
   "display_name": "Python 3 (ipykernel)",
   "language": "python",
   "name": "python3"
  },
  "language_info": {
   "codemirror_mode": {
    "name": "ipython",
    "version": 3
   },
   "file_extension": ".py",
   "mimetype": "text/x-python",
   "name": "python",
   "nbconvert_exporter": "python",
   "pygments_lexer": "ipython3",
   "version": "3.11.7"
  }
 },
 "nbformat": 4,
 "nbformat_minor": 5
}
