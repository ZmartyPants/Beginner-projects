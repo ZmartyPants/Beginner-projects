{
 "cells": [
  {
   "cell_type": "code",
   "execution_count": 7,
   "id": "b904f828-969a-41ee-9f25-e9d439045e52",
   "metadata": {},
   "outputs": [
    {
     "name": "stdout",
     "output_type": "stream",
     "text": [
      "Pyt\n",
      "Python for Beginners\n"
     ]
    }
   ],
   "source": [
    "course = 'Python for Beginners'\n",
    "another = course[:]\n",
    "print(course[0:3])\n",
    "print(another)"
   ]
  },
  {
   "cell_type": "code",
   "execution_count": 5,
   "id": "ac95965c-fa8b-4da3-9b00-c66c521797dc",
   "metadata": {},
   "outputs": [
    {
     "name": "stdout",
     "output_type": "stream",
     "text": [
      "Pytho\n"
     ]
    }
   ],
   "source": [
    "print(course[:5])"
   ]
  },
  {
   "cell_type": "code",
   "execution_count": 6,
   "id": "a1802cf6-573e-4c15-85c9-3119fb09e6b6",
   "metadata": {},
   "outputs": [
    {
     "name": "stdout",
     "output_type": "stream",
     "text": [
      "Python for Beginners\n"
     ]
    }
   ],
   "source": [
    "print(course[:])"
   ]
  },
  {
   "cell_type": "code",
   "execution_count": null,
   "id": "dbf0831a-ec02-469c-a8e7-463c4726fb89",
   "metadata": {},
   "outputs": [],
   "source": []
  }
 ],
 "metadata": {
  "kernelspec": {
   "display_name": "Python 3 (ipykernel)",
   "language": "python",
   "name": "python3"
  },
  "language_info": {
   "codemirror_mode": {
    "name": "ipython",
    "version": 3
   },
   "file_extension": ".py",
   "mimetype": "text/x-python",
   "name": "python",
   "nbconvert_exporter": "python",
   "pygments_lexer": "ipython3",
   "version": "3.11.7"
  }
 },
 "nbformat": 4,
 "nbformat_minor": 5
}
